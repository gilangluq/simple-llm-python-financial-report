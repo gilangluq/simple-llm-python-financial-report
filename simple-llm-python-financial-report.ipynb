{
 "cells": [
  {
   "cell_type": "code",
   "execution_count": 1,
   "metadata": {},
   "outputs": [],
   "source": [
    "from dotenv import find_dotenv, load_dotenv\n",
    "import os\n",
    "load_dotenv(find_dotenv())\n",
    "\n",
    "groq_api_key = os.environ['GROQ_API_KEY']"
   ]
  },
  {
   "cell_type": "code",
   "execution_count": 2,
   "metadata": {},
   "outputs": [
    {
     "data": {
      "text/plain": [
       "ChatGroq(client=<groq.resources.chat.completions.Completions object at 0x0000017F7F0DCBC0>, async_client=<groq.resources.chat.completions.AsyncCompletions object at 0x0000017F7F166D50>, model_name='llama-3.1-70b-versatile', model_kwargs={}, groq_api_key=SecretStr('**********'))"
      ]
     },
     "execution_count": 2,
     "metadata": {},
     "output_type": "execute_result"
    }
   ],
   "source": [
    "from langchain_groq import ChatGroq\n",
    "llama3 = ChatGroq(api_key = groq_api_key, model = \"llama-3.1-70b-versatile\")\n",
    "llama3"
   ]
  },
  {
   "cell_type": "code",
   "execution_count": 5,
   "metadata": {},
   "outputs": [
    {
     "data": {
      "text/plain": [
       "AIMessage(content='Halo! Berikut adalah 4 contoh variabel makro ekonomi:\\n\\n1. **Pertumbuhan Ekonomi (PDB)**: Pertumbuhan ekonomi diukur dengan menggunakan Produk Domestik Bruto (PDB) yang menunjukkan total nilai barang dan jasa yang dihasilkan dalam suatu negara dalam satu tahun.\\n\\n2. **Inflasi**: Inflasi adalah kenaikan harga barang dan jasa secara umum dalam jangka waktu tertentu. Inflasi diukur dengan menggunakan Indeks Harga Konsumen (IHK).\\n\\n3. **Tingkat Pengangguran**: Tingkat pengangguran adalah persentase penduduk yang tidak bekerja dan mencari pekerjaan. Tingkat pengangguran dihitung dengan menggunakan data jumlah penduduk yang tidak bekerja dan jumlah penduduk yang berusia kerja.\\n\\n4. **Neraca Perdagangan**: Neraca perdagangan adalah perbedaan antara nilai ekspor dan impor suatu negara dalam jangka waktu tertentu. Neraca perdagangan yang surplus menunjukkan bahwa nilai ekspor lebih besar daripada nilai impor, sedangkan neraca perdagangan yang defisit menunjukkan bahwa nilai impor lebih besar daripada nilai ekspor.', additional_kwargs={}, response_metadata={'token_usage': {'completion_tokens': 283, 'prompt_tokens': 53, 'total_tokens': 336, 'completion_time': 1.132374807, 'prompt_time': 0.013841554, 'queue_time': 0.005049073999999999, 'total_time': 1.146216361}, 'model_name': 'llama-3.1-70b-versatile', 'system_fingerprint': 'fp_b6828be2c9', 'finish_reason': 'stop', 'logprobs': None}, id='run-a190f1f9-02b8-4577-9e83-2a9bb95be7dc-0', usage_metadata={'input_tokens': 53, 'output_tokens': 283, 'total_tokens': 336})"
      ]
     },
     "execution_count": 5,
     "metadata": {},
     "output_type": "execute_result"
    }
   ],
   "source": [
    "llama3.invoke(\"Halo llama! Sebutkan 4 contoh variabel makro ekonomi!\")"
   ]
  },
  {
   "cell_type": "code",
   "execution_count": 6,
   "metadata": {},
   "outputs": [],
   "source": [
    "from langchain_core.tools import tool, StructuredTool\n",
    "import yfinance as yf\n",
    "\n",
    "@tool\n",
    "def company_address(ticker: str) -> str:\n",
    "    \"\"\"\n",
    "    Returns company address for input ticker.\n",
    "    e.g. company_address: AAPL\n",
    "    Returns company address for ticker AAPL which is stock ticker for Apple Inc.\n",
    "    \"\"\"\n",
    "    ticker_obj = yf.Ticker(ticker)\n",
    "    info = ticker_obj.get_info()\n",
    "    return \" \".join([info[key] for key in ['address1','city','state','zip','country']])\n",
    "\n",
    "@tool\n",
    "def fulltime_employees(ticker: str) -> int:\n",
    "    \"\"\"\n",
    "    Returns fulltime employees count for input ticker.\n",
    "    e.g. company_address: MSFT\n",
    "    Returns fulltime employees count for ticker MSFT which is stock ticker for Microsoft.\n",
    "    \"\"\"\n",
    "    ticker_obj = yf.Ticker(ticker)\n",
    "    info = ticker_obj.get_info()\n",
    "    return info['fullTimeEmployees']\n",
    "\n",
    "@tool\n",
    "def last_close_price(ticker: str) -> float:\n",
    "    \"\"\"\n",
    "    Returns last close price for input ticker.\n",
    "    e.g. company_address: MSFT\n",
    "    Returns last close price for ticker MSFT which is stock ticker for Microsoft.\n",
    "    \"\"\"\n",
    "    ticker_obj = yf.Ticker(ticker)\n",
    "    info = ticker_obj.get_info()\n",
    "    return info['previousClose']\n",
    "\n",
    "@tool\n",
    "def EBITDA(ticker: str) -> float:\n",
    "    \"\"\"\n",
    "    Returns EBITDA for input ticker.\n",
    "    e.g. company_address: AAPL\n",
    "    Returns EBITDA for ticker AAPL which is stock ticker for Apple Inc.\n",
    "    \"\"\"\n",
    "    ticker_obj = yf.Ticker(ticker)\n",
    "    info = ticker_obj.get_info()\n",
    "    return info['ebitda']\n",
    "\n",
    "@tool\n",
    "def total_debt(ticker: str) -> float:\n",
    "    \"\"\"\n",
    "    Returns total debt for input ticker.\n",
    "    e.g. company_address: AAPL\n",
    "    Returns total debt for ticker AAPL which is stock ticker for Apple Inc.\n",
    "    \"\"\"\n",
    "    ticker_obj = yf.Ticker(ticker)\n",
    "    info = ticker_obj.get_info()\n",
    "    return info['totalDebt']\n",
    "\n",
    "@tool\n",
    "def total_revenue(ticker: str) -> float:\n",
    "    \"\"\"\n",
    "    Returns total revenue for input ticker.\n",
    "    e.g. company_address: MSFT\n",
    "    Returns total revenue for ticker MSFT which is stock ticker for Microsoft.\n",
    "    \"\"\"\n",
    "    ticker_obj = yf.Ticker(ticker)\n",
    "    info = ticker_obj.get_info()\n",
    "    return info['totalRevenue']\n",
    "\n",
    "@tool\n",
    "def debt_to_equity_ratio(ticker: str) -> float:\n",
    "    \"\"\"\n",
    "    Returns debt to equity ratio for input ticker.\n",
    "    e.g. company_address: AAPL\n",
    "    Returns debt to equity ratio for ticker AAPL which is stock ticker for Apple Inc.\n",
    "    \"\"\"\n",
    "    ticker_obj = yf.Ticker(ticker)\n",
    "    info = ticker_obj.get_info()\n",
    "    return info['debtToEquity']\n",
    "\n",
    "tools = [\n",
    " company_address,\n",
    " fulltime_employees,\n",
    " last_close_price,\n",
    " EBITDA,\n",
    " total_debt,\n",
    " total_revenue,\n",
    " debt_to_equity_ratio\n",
    "]"
   ]
  },
  {
   "cell_type": "code",
   "execution_count": 7,
   "metadata": {},
   "outputs": [],
   "source": [
    "llama3_with_tools = llama3.bind_tools(tools, tool_choice='auto')"
   ]
  },
  {
   "cell_type": "code",
   "execution_count": 8,
   "metadata": {},
   "outputs": [
    {
     "name": "stdout",
     "output_type": "stream",
     "text": [
      "Hello. How can I help you today?\n",
      "[]\n"
     ]
    }
   ],
   "source": [
    "ai_msg = llama3_with_tools.invoke('Hello, llama!')\n",
    "print(ai_msg.content)\n",
    "print(ai_msg.tool_calls)"
   ]
  },
  {
   "cell_type": "code",
   "execution_count": 10,
   "metadata": {},
   "outputs": [
    {
     "name": "stdout",
     "output_type": "stream",
     "text": [
      "\n",
      "[{'name': 'EBITDA', 'args': {'ticker': 'MSFT'}, 'id': 'call_62eg', 'type': 'tool_call'}]\n"
     ]
    },
    {
     "data": {
      "text/plain": [
       "129433001984"
      ]
     },
     "execution_count": 10,
     "metadata": {},
     "output_type": "execute_result"
    }
   ],
   "source": [
    "ai_msg = llama3_with_tools.invoke(\"What's the EBITDA of Microsoft?\")\n",
    "print(ai_msg.content)\n",
    "print(ai_msg.tool_calls)\n",
    "EBITDA.invoke(ai_msg.tool_calls[0]['args'])"
   ]
  }
 ],
 "metadata": {
  "kernelspec": {
   "display_name": "Python 3",
   "language": "python",
   "name": "python3"
  },
  "language_info": {
   "codemirror_mode": {
    "name": "ipython",
    "version": 3
   },
   "file_extension": ".py",
   "mimetype": "text/x-python",
   "name": "python",
   "nbconvert_exporter": "python",
   "pygments_lexer": "ipython3",
   "version": "3.12.2"
  }
 },
 "nbformat": 4,
 "nbformat_minor": 2
}
